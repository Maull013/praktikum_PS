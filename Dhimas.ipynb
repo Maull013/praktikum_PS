{
 "cells": [
  {
   "cell_type": "code",
   "execution_count": 11,
   "id": "3647b72e",
   "metadata": {},
   "outputs": [
    {
     "name": "stdout",
     "output_type": "stream",
     "text": [
      "   Nama Lengkap Gender  Angkatan  Tinggi  Waktu Perjalanan (Menit)  \\\n",
      "0         adit       L      2023     173                        15   \n",
      "1        rayyan      L      2023     165                        13   \n",
      "2         felix      L      2023     156                        17   \n",
      "3        andrew      L      2023     168                        30   \n",
      "4         April      P      2023     176                        15   \n",
      "5       michael      L      2023     185                        17   \n",
      "6          Arik      L      2023     173                        30   \n",
      "7         Aurel      P      2023     173                        21   \n",
      "8         bahru      P      2023     171                        22   \n",
      "9          dewa      L      2023     175                        31   \n",
      "10         vira      L      2023     178                        25   \n",
      "11         dony      L      2023     173                        28   \n",
      "12         naya      P      2023     169                        10   \n",
      "13        kevin      L      2023     173                        30   \n",
      "14       hannan      L      2023     166                        30   \n",
      "15      bambang      L      2023     173                        36   \n",
      "16         jett      L      2023     170                        22   \n",
      "17         dafa      L      2023     160                        15   \n",
      "18        dimas      L      2023     163                        48   \n",
      "\n",
      "   wilayah tinggal  \n",
      "0          jakarta  \n",
      "1           bekasi  \n",
      "2           jaktim  \n",
      "3            depok  \n",
      "4        tangerang  \n",
      "5          jakarta  \n",
      "6           jakbar  \n",
      "7            jakut  \n",
      "8            depok  \n",
      "9          jakarta  \n",
      "10         jakarta  \n",
      "11          bekasi  \n",
      "12         jakarta  \n",
      "13          jaktim  \n",
      "14          jaktim  \n",
      "15           depok  \n",
      "16         jakarta  \n",
      "17          jakbar  \n",
      "18          bekasi  \n"
     ]
    }
   ],
   "source": [
    "import pandas as pd\n",
    "\n",
    "data_dhimas = pd.read_clipboard()\n",
    "\n",
    "# Menampilkan data\n",
    "print(data_dhimas)"
   ]
  },
  {
   "cell_type": "code",
   "execution_count": 20,
   "id": "b9c6985d",
   "metadata": {},
   "outputs": [
    {
     "name": "stdout",
     "output_type": "stream",
     "text": [
      "   Nama Lengkap Gender  Angkatan  Tinggi  Waktu Perjalanan (Menit)  \\\n",
      "0         adit       L      2023     173                        15   \n",
      "6          Arik      L      2023     173                        30   \n",
      "7         Aurel      P      2023     173                        21   \n",
      "11         dony      L      2023     173                        28   \n",
      "13        kevin      L      2023     173                        30   \n",
      "15      bambang      L      2023     173                        36   \n",
      "\n",
      "   wilayah tinggal  \n",
      "0          jakarta  \n",
      "6           jakbar  \n",
      "7            jakut  \n",
      "11          bekasi  \n",
      "13          jaktim  \n",
      "15           depok  \n"
     ]
    }
   ],
   "source": [
    "dhimas = data_dhimas[data_dhimas['Tinggi'] == 173]\n",
    "\n",
    "# Menampilkan nama\n",
    "print(dhimas)\n"
   ]
  },
  {
   "cell_type": "code",
   "execution_count": 21,
   "id": "212418fa",
   "metadata": {},
   "outputs": [
    {
     "name": "stdout",
     "output_type": "stream",
     "text": [
      "   Nama Lengkap Gender  Angkatan Tinggi  Waktu Perjalanan (Menit)  \\\n",
      "0         adit       L      2023  large                        15   \n",
      "6          Arik      L      2023  large                        30   \n",
      "7         Aurel      P      2023  large                        21   \n",
      "11         dony      L      2023  large                        28   \n",
      "13        kevin      L      2023  large                        30   \n",
      "15      bambang      L      2023  large                        36   \n",
      "\n",
      "   wilayah tinggal  \n",
      "0          jakarta  \n",
      "6           jakbar  \n",
      "7            jakut  \n",
      "11          bekasi  \n",
      "13          jaktim  \n",
      "15           depok  \n"
     ]
    },
    {
     "name": "stderr",
     "output_type": "stream",
     "text": [
      "C:\\Users\\Acer\\AppData\\Local\\Temp\\ipykernel_16956\\695523088.py:1: SettingWithCopyWarning: \n",
      "A value is trying to be set on a copy of a slice from a DataFrame.\n",
      "Try using .loc[row_indexer,col_indexer] = value instead\n",
      "\n",
      "See the caveats in the documentation: https://pandas.pydata.org/pandas-docs/stable/user_guide/indexing.html#returning-a-view-versus-a-copy\n",
      "  dhimas['Tinggi'] = pd.to_numeric(dhimas['Tinggi'])\n",
      "C:\\Users\\Acer\\AppData\\Local\\Temp\\ipykernel_16956\\695523088.py:5: SettingWithCopyWarning: \n",
      "A value is trying to be set on a copy of a slice from a DataFrame.\n",
      "Try using .loc[row_indexer,col_indexer] = value instead\n",
      "\n",
      "See the caveats in the documentation: https://pandas.pydata.org/pandas-docs/stable/user_guide/indexing.html#returning-a-view-versus-a-copy\n",
      "  dhimas['Tinggi'] = dhimas['Tinggi'].apply(lambda x: 'large' if x > 160 else 'small')\n"
     ]
    }
   ],
   "source": [
    "dhimas['Tinggi'] = pd.to_numeric(dhimas['Tinggi'])\n",
    "\n",
    "import numpy as np\n",
    "\n",
    "dhimas['Tinggi'] = dhimas['Tinggi'].apply(lambda x: 'large' if x > 160 else 'small')\n",
    "\n",
    "# Menampilkan DataFrame setelah modifikasi\n",
    "print(dhimas)\n"
   ]
  },
  {
   "cell_type": "code",
   "execution_count": 22,
   "id": "90cf7d86",
   "metadata": {},
   "outputs": [
    {
     "name": "stdout",
     "output_type": "stream",
     "text": [
      "   Nama Lengkap Gender  Angkatan Tinggi  Waktu Perjalanan (Menit)  \\\n",
      "0         adit       L      2023  large                        15   \n",
      "6          Arik      L      2023  large                        30   \n",
      "7         Aurel      P      2023  large                        21   \n",
      "11         dony      L      2023  large                        28   \n",
      "13        kevin      L      2023  large                        30   \n",
      "15      bambang      L      2023  large                        36   \n",
      "\n",
      "   wilayah tinggal Jurusan Fakultas  \n",
      "0          jakarta   TIF23      FTI  \n",
      "6           jakbar   TIF23      FTI  \n",
      "7            jakut   TIF23      FTI  \n",
      "11          bekasi   TIF23      FTI  \n",
      "13          jaktim   TIF23      FTI  \n",
      "15           depok   TIF23      FTI  \n"
     ]
    },
    {
     "name": "stderr",
     "output_type": "stream",
     "text": [
      "C:\\Users\\Acer\\AppData\\Local\\Temp\\ipykernel_16956\\2034231393.py:2: SettingWithCopyWarning: \n",
      "A value is trying to be set on a copy of a slice from a DataFrame.\n",
      "Try using .loc[row_indexer,col_indexer] = value instead\n",
      "\n",
      "See the caveats in the documentation: https://pandas.pydata.org/pandas-docs/stable/user_guide/indexing.html#returning-a-view-versus-a-copy\n",
      "  dhimas['Jurusan'] = 'TIF23'\n",
      "C:\\Users\\Acer\\AppData\\Local\\Temp\\ipykernel_16956\\2034231393.py:3: SettingWithCopyWarning: \n",
      "A value is trying to be set on a copy of a slice from a DataFrame.\n",
      "Try using .loc[row_indexer,col_indexer] = value instead\n",
      "\n",
      "See the caveats in the documentation: https://pandas.pydata.org/pandas-docs/stable/user_guide/indexing.html#returning-a-view-versus-a-copy\n",
      "  dhimas['Fakultas'] = 'FTI'\n"
     ]
    }
   ],
   "source": [
    "# Menambahkan kolom baru 'newvariable' \n",
    "dhimas['Jurusan'] = 'TIF23'\n",
    "dhimas['Fakultas'] = 'FTI'\n",
    "\n",
    "# Menampilkan DataFrame 'nama' setelah penambahan kolom baru\n",
    "print(dhimas)\n"
   ]
  },
  {
   "cell_type": "code",
   "execution_count": 23,
   "id": "648c9569",
   "metadata": {},
   "outputs": [
    {
     "name": "stdout",
     "output_type": "stream",
     "text": [
      "   Nama Lengkap Gender  Angkatan Tinggi  Waktu Perjalanan (Menit)  \\\n",
      "0         adit       L      2023  large                        15   \n",
      "6          Arik      L      2023  large                        30   \n",
      "7         Aurel      P      2023  large                        21   \n",
      "11         dony      L      2023  large                        28   \n",
      "13        kevin      L      2023  large                        30   \n",
      "15      bambang      L      2023  large                        36   \n",
      "\n",
      "   wilayah tinggal Jurusan  \n",
      "0          jakarta   TIF23  \n",
      "6           jakbar   TIF23  \n",
      "7            jakut   TIF23  \n",
      "11          bekasi   TIF23  \n",
      "13          jaktim   TIF23  \n",
      "15           depok   TIF23  \n"
     ]
    }
   ],
   "source": [
    "dhimas = dhimas.drop(columns=['Fakultas'])\n",
    "\n",
    "# Menampilkan DataFrame 'nama' \n",
    "print(dhimas)\n"
   ]
  },
  {
   "cell_type": "code",
   "execution_count": 24,
   "id": "02620c14",
   "metadata": {},
   "outputs": [
    {
     "name": "stdout",
     "output_type": "stream",
     "text": [
      "   Nama Lengkap Gender\n",
      "0         adit       L\n",
      "1        rayyan      L\n",
      "2         felix      L\n",
      "3        andrew      L\n",
      "4         April      P\n",
      "5       michael      L\n",
      "6          Arik      L\n",
      "7         Aurel      P\n",
      "8         bahru      P\n",
      "9          dewa      L\n",
      "10         vira      L\n",
      "11         dony      L\n",
      "12         naya      P\n",
      "13        kevin      L\n",
      "14       hannan      L\n",
      "15      bambang      L\n",
      "16         jett      L\n",
      "17         dafa      L\n",
      "18        dimas      L\n"
     ]
    }
   ],
   "source": [
    "kolom1dan2 = data_dhimas.iloc[:, 0:2]\n",
    "\n",
    "# Menampilkan DataFrame kolom1dan2\n",
    "print(kolom1dan2)\n"
   ]
  },
  {
   "cell_type": "code",
   "execution_count": 25,
   "id": "c30b0518",
   "metadata": {},
   "outputs": [
    {
     "name": "stdout",
     "output_type": "stream",
     "text": [
      "  Nama Lengkap Gender  Angkatan  Tinggi  Waktu Perjalanan (Menit)  \\\n",
      "0        adit       L      2023     173                        15   \n",
      "1       rayyan      L      2023     165                        13   \n",
      "2        felix      L      2023     156                        17   \n",
      "3       andrew      L      2023     168                        30   \n",
      "\n",
      "  wilayah tinggal  \n",
      "0         jakarta  \n",
      "1          bekasi  \n",
      "2          jaktim  \n",
      "3           depok  \n"
     ]
    },
    {
     "name": "stderr",
     "output_type": "stream",
     "text": [
      "C:\\Users\\Acer\\AppData\\Local\\Temp\\ipykernel_16956\\2756271566.py:4: FutureWarning: The frame.append method is deprecated and will be removed from pandas in a future version. Use pandas.concat instead.\n",
      "  baris1sd30 = baris1sd4.append(baris26sd30)\n"
     ]
    }
   ],
   "source": [
    "# Menggabungkan baris dari dua DataFrame\n",
    "baris1sd4 = data_dhimas.iloc[0:4, :]\n",
    "baris26sd30 = data_dhimas.iloc[26:30, :]\n",
    "baris1sd30 = baris1sd4.append(baris26sd30)\n",
    "\n",
    "# Menampilkan DataFrame baris1sd6\n",
    "print(baris1sd30)\n"
   ]
  },
  {
   "cell_type": "code",
   "execution_count": 26,
   "id": "f56d3628",
   "metadata": {},
   "outputs": [
    {
     "name": "stdout",
     "output_type": "stream",
     "text": [
      "   Nama Lengkap Gender  Angkatan  Tinggi  Waktu Perjalanan (Menit)  \\\n",
      "2         felix      L      2023     156                        17   \n",
      "17         dafa      L      2023     160                        15   \n",
      "18        dimas      L      2023     163                        48   \n",
      "1        rayyan      L      2023     165                        13   \n",
      "14       hannan      L      2023     166                        30   \n",
      "3        andrew      L      2023     168                        30   \n",
      "12         naya      P      2023     169                        10   \n",
      "16         jett      L      2023     170                        22   \n",
      "8         bahru      P      2023     171                        22   \n",
      "15      bambang      L      2023     173                        36   \n",
      "13        kevin      L      2023     173                        30   \n",
      "0         adit       L      2023     173                        15   \n",
      "7         Aurel      P      2023     173                        21   \n",
      "6          Arik      L      2023     173                        30   \n",
      "11         dony      L      2023     173                        28   \n",
      "9          dewa      L      2023     175                        31   \n",
      "4         April      P      2023     176                        15   \n",
      "10         vira      L      2023     178                        25   \n",
      "5       michael      L      2023     185                        17   \n",
      "\n",
      "   wilayah tinggal  \n",
      "2           jaktim  \n",
      "17          jakbar  \n",
      "18          bekasi  \n",
      "1           bekasi  \n",
      "14          jaktim  \n",
      "3            depok  \n",
      "12         jakarta  \n",
      "16         jakarta  \n",
      "8            depok  \n",
      "15           depok  \n",
      "13          jaktim  \n",
      "0          jakarta  \n",
      "7            jakut  \n",
      "6           jakbar  \n",
      "11          bekasi  \n",
      "9          jakarta  \n",
      "4        tangerang  \n",
      "10         jakarta  \n",
      "5          jakarta  \n"
     ]
    }
   ],
   "source": [
    "data_dhimas_sort = data_dhimas.sort_values(by='Tinggi')\n",
    "\n",
    "print(data_dhimas_sort)\n"
   ]
  },
  {
   "cell_type": "code",
   "execution_count": null,
   "id": "3263fc73",
   "metadata": {},
   "outputs": [],
   "source": []
  }
 ],
 "metadata": {
  "kernelspec": {
   "display_name": "Python 3 (ipykernel)",
   "language": "python",
   "name": "python3"
  },
  "language_info": {
   "codemirror_mode": {
    "name": "ipython",
    "version": 3
   },
   "file_extension": ".py",
   "mimetype": "text/x-python",
   "name": "python",
   "nbconvert_exporter": "python",
   "pygments_lexer": "ipython3",
   "version": "3.11.4"
  }
 },
 "nbformat": 4,
 "nbformat_minor": 5
}
